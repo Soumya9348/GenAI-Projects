{
 "cells": [
  {
   "cell_type": "code",
   "execution_count": 1,
   "metadata": {},
   "outputs": [],
   "source": [
    "import requests\n",
    "from bs4 import BeautifulSoup\n",
    "from IPython.display import Markdown, display"
   ]
  },
  {
   "cell_type": "code",
   "execution_count": 2,
   "metadata": {},
   "outputs": [],
   "source": [
    "OLLAMA_API = \"http://localhost:11434/api/chat\"\n",
    "HEADERS = {\"Content-Type\": \"application/json\"}\n",
    "MODEL = \"llama3.2\""
   ]
  },
  {
   "cell_type": "code",
   "execution_count": 3,
   "metadata": {},
   "outputs": [],
   "source": [
    "# Create a messages list using the same format that we used for OpenAI\n",
    "\n",
    "messages = [\n",
    "    {\"role\": \"user\", \"content\": \"Describe some of the business applications of Generative AI\"}\n",
    "]"
   ]
  },
  {
   "cell_type": "code",
   "execution_count": 4,
   "metadata": {},
   "outputs": [],
   "source": [
    "payload = {\n",
    "        \"model\": MODEL,\n",
    "        \"messages\": messages,\n",
    "        \"stream\": False\n",
    "    }"
   ]
  },
  {
   "cell_type": "code",
   "execution_count": 6,
   "metadata": {},
   "outputs": [
    {
     "name": "stdout",
     "output_type": "stream",
     "text": [
      "Generative AI has numerous business applications across various industries. Here are some examples:\n",
      "\n",
      "1. **Content Generation**: Generative AI can create high-quality content such as articles, social media posts, product descriptions, and even entire books. This automation can help businesses save time and resources, while improving the consistency and quality of their content.\n",
      "2. **Product Design**: Generative AI can aid in designing new products by generating 3D models, prototypes, and even entire product lines. This can be particularly useful for companies in the aerospace, automotive, or consumer goods industries.\n",
      "3. **Image and Video Generation**: Generative AI can create realistic images and videos, which can be used for various applications such as advertising, marketing, or entertainment. For example, a company could use generative AI to create bespoke product images or generate realistic customer testimonials.\n",
      "4. **Chatbots and Customer Service**: Generative AI-powered chatbots can help businesses provide 24/7 customer support, answer frequently asked questions, and even route complex issues to human representatives.\n",
      "5. **Predictive Analytics**: Generative AI can analyze large datasets to identify patterns, trends, and correlations that may not be apparent through traditional analysis methods. This can be particularly useful for industries such as finance, healthcare, or marketing.\n",
      "6. **Data Augmentation**: Generative AI can generate new, synthetic data points that can be used to augment existing datasets, reducing the need for human annotation and increasing the diversity of training data.\n",
      "7. **Marketing Automation**: Generative AI can help automate various marketing tasks such as lead generation, email marketing, and social media management. This can free up resources for more strategic and creative work.\n",
      "8. **Supply Chain Optimization**: Generative AI can analyze supply chain data to identify bottlenecks, optimize logistics, and predict demand fluctuations.\n",
      "9. **Financial Modeling**: Generative AI can create detailed financial models that take into account various market conditions, economic trends, and other factors. This can help businesses make more informed investment decisions.\n",
      "10. **Artificial Intelligence-assisted Decision Making**: Generative AI can provide decision-makers with data-driven insights, predictions, and recommendations that can inform strategic decisions.\n",
      "\n",
      "Some specific business use cases for generative AI include:\n",
      "\n",
      "* Creating personalized product recommendations for e-commerce websites\n",
      "* Generating high-quality images and videos for advertising campaigns\n",
      "* Automating customer service chatbots for multinational corporations\n",
      "* Developing predictive models to forecast demand in the retail industry\n",
      "* Analyzing large datasets to identify trends and patterns in the finance sector\n",
      "\n",
      "These are just a few examples of the many business applications of generative AI. As the technology continues to evolve, we can expect to see even more innovative use cases emerge across various industries.\n"
     ]
    }
   ],
   "source": [
    "response = requests.post(OLLAMA_API, json=payload, headers=HEADERS)\n",
    "print(response.json()['message']['content'])"
   ]
  },
  {
   "cell_type": "code",
   "execution_count": 7,
   "metadata": {},
   "outputs": [
    {
     "name": "stdout",
     "output_type": "stream",
     "text": [
      "Generative AI has numerous business applications across various industries, including:\n",
      "\n",
      "1. **Content Generation**: Generative AI can create high-quality content such as blog posts, articles, social media posts, and product descriptions, saving time and resources for businesses.\n",
      "2. **Marketing Automation**: Generative AI can generate personalized marketing campaigns, product recommendations, and customer engagement messages, enhancing the overall customer experience.\n",
      "3. **Product Design and Development**: Generative AI can aid in designing new products by generating 3D models, prototypes, and concept art, reducing the time and cost associated with traditional design methods.\n",
      "4. **Customer Service**: Generative AI-powered chatbots can provide 24/7 customer support, answering common questions, and routing complex issues to human agents.\n",
      "5. **Data Analysis and Insights**: Generative AI can analyze large datasets, identify patterns, and provide actionable insights for businesses, helping them make data-driven decisions.\n",
      "6. **Financial Modeling and Forecasting**: Generative AI can generate financial models, forecasts, and scenarios, enabling businesses to anticipate future trends and optimize their investment strategies.\n",
      "7. **Language Translation**: Generative AI-powered translation tools can facilitate international trade, marketing, and communication by automating language translation and interpretation.\n",
      "8. **Image and Video Generation**: Generative AI can create realistic images and videos for advertising, product visualization, and training purposes, reducing the need for expensive image creation and manipulation.\n",
      "9. **Predictive Maintenance**: Generative AI can analyze sensor data from industrial equipment to predict maintenance needs, optimizing downtime and increasing overall efficiency.\n",
      "10. **Supply Chain Optimization**: Generative AI can optimize supply chain operations by predicting demand, managing inventory, and routing logistics, reducing costs and improving delivery times.\n",
      "11. **Human Resources Management**: Generative AI can aid in talent acquisition, recruitment, and employee engagement by generating job descriptions, interview questions, and performance evaluations.\n",
      "12. **Accounting and Taxation**: Generative AI can automate accounting tasks such as data entry, invoicing, and tax compliance, reducing the risk of errors and increasing compliance efficiency.\n",
      "\n",
      "These are just a few examples of the many business applications of Generative AI. As the technology continues to evolve, we can expect to see even more innovative uses across various industries.\n"
     ]
    }
   ],
   "source": [
    "import ollama\n",
    "\n",
    "response = ollama.chat(model=MODEL, messages=messages)\n",
    "print(response['message']['content'])\n"
   ]
  },
  {
   "cell_type": "code",
   "execution_count": 8,
   "metadata": {},
   "outputs": [
    {
     "name": "stdout",
     "output_type": "stream",
     "text": [
      "Generative AI has various business applications across industries, including:\n",
      "\n",
      "1. **Content Creation**: AI-generated content such as images, videos, and music can be used for:\n",
      " * Creating unique visuals for marketing campaigns\n",
      " * Developing personalized product descriptions or social media posts\n",
      " * Generating new ideas for creative projects like music or fashion design\n",
      "2. **Virtual Assistants**: Generative AI can power virtual assistants to:\n",
      " * Provide personalized customer support with dynamic responses\n",
      " * Generate human-like chatbox conversations\n",
      " * Offer predictive capabilities based on customers' behavior and preferences\n",
      "3. **Design and Architecture**: Generative AI tools can be used for:\n",
      " * Generating architectural designs, floor plans, or interior layouts\n",
      " * Creating product design concepts or prototypes\n",
      " * Designing innovative packaging solutions\n",
      "4. **Marketing Automation**: AI-powered generative models can:\n",
      " * Automate lead scoring and prioritization based on customer behavior\n",
      " * Generate tailored marketing emails or social media posts\n",
      " * Develop personalized video ads that adapt in real-time to individual viewers' responses.\n",
      "5. **Product Development**: Generative AI can aid product development by:\n",
      " * Generating product designs, prototypes, or 3D models\n",
      " * Creating new product concepts based on market trends and customer needs\n",
      " * Identifying potential design flaws or improving existing ones with incremental updates.\n",
      "6. **Data Analysis and Insights**: Generative AI can help analyze vast amounts of data to generate actionable insights, such as:\n",
      " * Predicting consumer behavior or sales trends using machine learning models\n",
      " * Analyzing complex financial reports by identifying patterns or anomalies in financial performance.\n",
      "7. **Sales Force Optimization**: AI generates personalized content for sales teams to use during outreach,\n",
      "   automate tasks to tailor to customers' behaviors and preferences.\n",
      "8.Image Editing & Enhancement-Generative AI tools can generate new visuals for editing and enhancing images.\n",
      "\n",
      "These applications not only save businesses time but also provide a competitive edge over their competitors.\n"
     ]
    }
   ],
   "source": [
    "#  an alternative approach that people might prefer\n",
    "# use the OpenAI client python library to call Ollama:\n",
    "\n",
    "from openai import OpenAI\n",
    "ollama_via_openai = OpenAI(base_url='http://localhost:11434/v1', api_key='ollama')\n",
    "\n",
    "response = ollama_via_openai.chat.completions.create(\n",
    "    model=MODEL,\n",
    "    messages=messages\n",
    ")\n",
    "\n",
    "print(response.choices[0].message.content)"
   ]
  },
  {
   "cell_type": "code",
   "execution_count": 9,
   "metadata": {},
   "outputs": [],
   "source": [
    "# A class to represent a Webpage\n",
    "# If you're not familiar with Classes, check out the \"Intermediate Python\" notebook\n",
    "\n",
    "class Website:\n",
    "    url: str\n",
    "    title: str\n",
    "    text: str\n",
    "\n",
    "    def __init__(self, url):\n",
    "        \"\"\"\n",
    "        Create this Website object from the given url using the BeautifulSoup library\n",
    "        \"\"\"\n",
    "        self.url = url\n",
    "        response = requests.get(url)\n",
    "        soup = BeautifulSoup(response.content, 'html.parser')\n",
    "        self.title = soup.title.string if soup.title else \"No title found\"\n",
    "        for irrelevant in soup.body([\"script\", \"style\", \"img\", \"input\"]):\n",
    "            irrelevant.decompose()\n",
    "        self.text = soup.body.get_text(separator=\"\\n\", strip=True)"
   ]
  },
  {
   "cell_type": "code",
   "execution_count": 11,
   "metadata": {},
   "outputs": [],
   "source": [
    "website = Website(\"https://www.cnn.com\")"
   ]
  },
  {
   "cell_type": "code",
   "execution_count": 14,
   "metadata": {},
   "outputs": [
    {
     "data": {
      "text/plain": [
       "'Breaking News, Latest News and Videos | CNN'"
      ]
     },
     "execution_count": 14,
     "metadata": {},
     "output_type": "execute_result"
    }
   ],
   "source": [
    "website.title"
   ]
  },
  {
   "cell_type": "code",
   "execution_count": 15,
   "metadata": {},
   "outputs": [
    {
     "data": {
      "text/plain": [
       "\"CNN values your feedback\\n1. How relevant is this ad to you?\\n2. Did you encounter any technical issues?\\nVideo player was slow to load content\\nVideo content never loaded\\nAd froze or did not finish loading\\nVideo content did not start after ad\\nAudio on ad was too loud\\nOther issues\\nAd never loaded\\nAd prevented/slowed the page from loading\\nContent moved around while ad loaded\\nAd was repetitive to ads I've seen previously\\nOther issues\\nCancel\\nSubmit\\nThank You!\\nYour effort and contribution in providing this feedback is much\\n                                        appreciated.\\nClose\\nAd Feedback\\nClose icon\\nUS\\nWorld\\nPolitics\\nBusiness\\nHealth\\nEntertainment\\nStyle\\nTravel\\nSports\\nScience\\nClimate\\nWeather\\nUkraine-Russia War\\nIsrael-Hamas War\\nMore\\nUS\\nWorld\\nPolitics\\nBusiness\\nHealth\\nEntertainment\\nStyle\\nTravel\\nSports\\nScience\\nClimate\\nWeather\\nUkraine-Russia War\\nIsrael-Hamas War\\nWatch\\nListen\\nLive TV\\nSubscribe\\nSign in\\nMy Account\\nSettings\\nTopics You Follow\\nSign Out\\nYour CNN account\\nSign in to your CNN account\\nSign in\\nMy Account\\nSettings\\nTopics You Follow\\nSign Out\\nYour CNN account\\nSign in to your CNN account\\nLive TV\\nListen\\nWatch\\nEdition\\nUS\\nInternational\\nArabic\\nEspañol\\nEdition\\nUS\\nInternational\\nArabic\\nEspañol\\nWorld\\nAfrica\\nAmericas\\nAsia\\nAustralia\\nChina\\nEurope\\nIndia\\nMiddle East\\nUnited Kingdom\\nUS Politics\\nSCOTUS\\nCongress\\nFacts First\\n2024 Elections\\nBusiness\\nTech\\nMedia\\nCalculators\\nVideos\\nMarkets\\nPre-markets\\nAfter-Hours\\nFear & Greed\\nInvesting\\nMarkets Now\\nNightcap\\nHealth\\nLife, But Better\\nFitness\\nFood\\nSleep\\nMindfulness\\nRelationships\\nEntertainment\\nMovies\\nTelevision\\nCelebrity\\nTech\\nInnovate\\nForeseeable Future\\nMission: Ahead\\nWork Transformed\\nInnovative Cities\\nStyle\\nArts\\nDesign\\nFashion\\nArchitecture\\nLuxury\\nBeauty\\nVideo\\nTravel\\nDestinations\\nFood & Drink\\nStay\\nNews\\nVideos\\nSports\\nFootball\\nTennis\\nGolf\\nMotorsport\\nUS Sports\\nOlympics\\nClimbing\\nEsports\\nHockey\\nScience\\nSpace\\nLife\\nUnearthed\\nClimate\\nSolutions\\nWeather\\nWeather\\nVideo\\nClimate\\nUkraine-Russia War\\nIsrael-Hamas War\\nFeatures\\nAs Equals\\nCall to Earth\\nFreedom Project\\nImpact Your World\\nInside Africa\\nCNN Heroes\\nWatch\\nLive TV\\nCNN Fast\\nShows A-Z\\nCNN10\\nCNN Max\\nCNN TV Schedules\\nListen\\nCNN 5 Things\\nChasing Life with Dr. Sanjay Gupta\\nThe Assignment with Audie Cornish\\nOne Thing\\nTug of War\\nCNN Political Briefing\\nThe Axe Files\\nAll There Is with Anderson Cooper\\nAll CNN Audio podcasts\\nAbout CNN\\nPhotos\\nInvestigations\\nCNN Profiles\\nCNN Leadership\\nCNN Newsletters\\nWork for CNN\\nFollow CNN\\nLive Updates\\nThe latest from Syria\\nYoungest chess world champion\\nSouth Korean martial law chaos\\n‘Attenzione, pickpocket!’\\nShocking changes to rivers\\n‘Love is Blind’\\nHorrors of life and death under Syria’s Assad\\nShow\\xa0all\\nCNN\\nBruised and battered corpses inside Mujtahid Hospital are tangible evidence of the brutal regime of the toppled dictator\\nLive Updates\\nMore than 1.1 million people displaced across Syria, UN estimates\\nExiled Syrians return home as others flee fearing the worst\\nThe dead, the missing and the reunited: Three tales of Syria’s tortured prisoners\\nIsrael accuses an ‘unprecedented’ number of Israelis of spying for Iran\\n•\\nVideo\\n5:40\\nCNN\\nVideo\\nFreed Syrian prisoner: ‘My God, there is light’\\n5:40\\n•\\nVideo\\n2:31\\nMIKHAIL KLIMENTYEV/AFP/Getty Images\\nVideo\\nMystery grows over Assad’s possible whereabouts in Russia\\n2:31\\n•\\nVideo\\n3:28\\nCNN\\nVideo\\n‘Crime of the regime’: Doctor reacts to bodies of Assad’s last victims\\n3:28\\n•\\nAnalysis\\nAnalysis\\nSusan Walsh/AP\\nAnalysis\\nXi’s RSVP is a snub to Trump, but the inauguration invite is still a big deal\\nTrump offers invites to foreign leaders through calls and back channels\\nReal Ice\\nA startup added 20 inches of fresh ice to part of the Arctic. Critics say it’s a huge risk\\nNeville Hopwood/Getty Images/File\\nChina sentences former Premier League soccer star to 20 years in prison for corruption\\nCatch up on today's global news\\n- Source:\\nCNN\\nVideo\\nCatch up on today’s global news\\nSimon Lim/AFP/Getty Images\\nIndian Gukesh Dommaraju, 18, becomes the youngest ever chess world champion\\nNoriko Hayashi/Bloomberg/Getty Images\\nSake made in space could sell for $500,000 a glass\\nTheo Wargo/Getty Images\\nElton John believes legalizing marijuana ‘is one of the greatest mistakes of all time’\\n•\\nVideo\\n1:27\\nCity of Fall River Police Department\\nVideo\\nMan flees from police, gets stuck in chimney, asks police for help\\n1:27\\nJourney Beyond\\nA 75-hour train ride through one of the world’s wildest places\\nAd Feedback\\nMore top stories\\nRohan Sullivan/AP\\nWomen take on mining giants in sexual harassment class action cases\\nHe cut off some loved ones for months. Now, Luigi Mangione faces mounting evidence in health care CEO’s killing\\nBiden admin says it is surging deliveries to Ukraine as Trump criticizes decision to allow US weapons to strike inside Russia\\nVideo\\nHaberman explains what Trump’s interview with Time tells her about his mindset\\n2:07\\nSouth Korean president refuses to quit as ruling party backs impeachment\\nFeatured\\nNorton Disney History and Archaeology Group/English Heritage/Lucara Diamond/Archaeological Park of Pompeii\\nA monster diamond, ancient lipstick and erotic Roman frescoes: 15 remarkable discoveries of 2024\\nTuul & Bruno Morandi/The Image Bank RF/Getty Images\\nScientists mapped the world’s rivers over 35 years. They found shocking changes\\nTaro Hama/e-kamakura/Moment RF/Getty Images\\nIt’s one of the world’s largest connected coral reef systems, but few people have even heard of it\\nAd Feedback\\nJulia Buckley/CNN\\nThe 58-year-old woman who chases pickpockets through Venice\\nDec 12, 2024\\nfcafotodigital/E+/Getty Images\\nA lowly vegetable rises to stardom in new dietary advisory report\\nDec 13, 2024\\nCNN\\nVideo\\nSanjay Gupta gives demonstration on Mangione’s apparent spine condition\\n2:14\\nDec 12, 2024\\nU.S. Consumer Product Safety Commission\\nStanley recalls more than 2.5 million travel mugs over possible burn hazard\\nDec 13, 2024\\nAd Feedback\\nWPBN\\nShe took a DNA test for fun. Police used it to charge her grandmother with murder in a cold case\\nNASA/JPL-Caltech\\nPerseverance rover will uncover mysterious Martian history after a monthslong trek\\nCourtesy Arete Tsoukalas\\n‘No one should have to be fighting cancer and insurance at the same time’\\n•\\nVideo\\n1:21\\nJefferson County Sheriff's Office\\nVideo\\nSuspected jewelry thieves attempt to escape by rowboat\\n1:21\\nAidan Monaghan/Focus Features\\nIf looks could kill: The risqué costumes of Hollywood’s ‘Nosferatu’ remake\\nNetflix\\n‘Love is Blind’ contestants are employees, Labor Board says, a first for reality TV\\nNatalia Botero-Acosta\\nHumpback whale makes record journey from South America to Africa\\nJordan Strauss/Invision/AP\\nSelena Gomez is engaged to record producer Benny Blanco\\nVictor Virgile/Gamma-Rapho/Getty Images\\nChanel announces Matthieu Blazy as its new artistic director\\n•\\nVideo\\n2:26\\nslutty vegan\\nVideo\\n‘It’s a term of endearment’: Why this restaurateur calls her customers sluts\\n2:26\\nDavid Eulitt/Getty Images\\nThe Kansas City Chiefs are the luckiest good team ever\\nAd Feedback\\nFeatured Sections\\nSpace and science\\nNASA/JPL-Caltech\\nPerseverance rover prepares to investigate the mysterious early history of Mars\\nHere’s how to watch this year’s brightest meteor shower\\nA recent orca sighting recalls a mystifying 1980s phenomenon. Is it happening again?\\nWhy Trump’s NASA pick is sending shock waves through the space community\\nGlobal Travel\\nShow\\xa0all\\nMilko Marchetti/Nikon Comedy Wildlife\\nStuck squirrel wins 2024 Comedy Wildlife Photography award\\nConsidering moving out of the US in 2025? These are the best countries for American expats\\nThe Australian city that became a global food and drink powerhouse\\nFour friends posed for a photo on vacation in 1972. Over 50 years later, they recreated it\\nAd Feedback\\nGlobal Business\\nDavid Ryder/Reuters\\nTrump just said groceries will be more affordable ‘very soon.’ He’s also said that might be very hard to achieve\\nWalgreens is in particularly awful shape\\nHere’s what could get significantly more expensive under Trump’s tariff plan\\nMore than 8,000 job cuts planned by another top German manufacturer\\nStyle\\nCharles McQuillan/Getty Images/File\\nOlympic sharpshooter Kim Ye-ji brings ‘aura’ to Balenciaga campaign\\nMetropolitan Museum of Art reveals design for new $550-million wing\\nPaul Mescal is selling his clothes on Vinted\\nTakashi Murakami uses AI to recreate ancient Japanese paintings — with a surreal twist\\nThe surprising history of the Fair Isle sweater\\nSPORT\\nShow\\xa0all\\nDavid Eulitt/Getty Images\\nThe Kansas City Chiefs are the luckiest good team ever\\nOlivia Reeves becomes first US lifter in 66 years to hold both world title and Olympic gold medal\\nBill Belichick named head football coach at North Carolina\\nA potential Super Bowl preview and the battle for Pennsylvania: Five things to look out for in Week 15 of the NFL season\\nAd Feedback\\nUS Politics\\nHannah Beier/Reuters\\nFBI informant accused of lying about Joe and Hunter Biden pleads guilty\\nKey lines from Trump’s interview with Time magazine\\nNo undercover FBI agents were at the January 6 US Capitol riot, watchdog reports\\nGOP senators targeted by Trump allies keep door open to controversial picks\\nHardline activist who raised the idea of jailing women for abortions gets top policy job in Trump administration\\nhealth and wellness\\nWestend61/Getty Images\\nThe holidays can be stressful and anxiety-inducing. Here’s how to make them fun and exciting again\\nCertain foods may disrupt your body’s fight against cancer cells, study says\\nMicroplastics are in many of your body’s organs and tissues. Why they’re so bad and what you can do\\nHere’s what child development experts think about the ‘beige mom’ trend\\nTech\\nJulien de Rosa/AFP/Getty Images/File\\nTech giants like Meta, Google to be forced to pay for Australian news\\nElon Musk becomes the first person to reach a net worth of $400 billion\\nAn autistic teen’s parents say Character.AI said it was OK to kill them. They’re suing to take down the app\\nWhat’s next for TikTok now that the app might get banned in the US?\\nPhotos You Should See\\n•\\nGallery\\nGallery\\nAlexlky/iStockphoto/Getty Images\\nGallery\\nMedical maggots, cancer-fighting wasps: The weird ways insects help our health\\n•\\nGallery\\nGallery\\nStephane de Sakutin/AFP/Getty Images\\nGallery\\nIn pictures: First look at Notre Dame’s breathtaking restoration five years after fire\\n•\\nGallery\\nGallery\\nChristopher Polk/TAS/Getty Images\\nGallery\\nIn pictures: Taylor Swift’s journey from country icon to pop superstar\\n•\\nGallery\\nGallery\\nArturo Hernandez/Eyepix Group/Future Publishing/Getty Images\\nGallery\\nPeople we’ve lost in 2024\\n•\\nGallery\\nGallery\\nAlpineguide/Alamy Stock Photo\\nGallery\\nEuropean towns and cities that look like Christmas\\n•\\nGallery\\nGallery\\nKatelyn Mulcahy/Getty Images\\nGallery\\nThe best photos from the 2024 NFL season\\nAd Feedback\\nIn Case You Missed It\\nCallaghan O'Hare/Bloomberg/Getty Images\\nChili’s and Applebee’s are fighting about their value meals\\nDavid Letterman at 77 says retirement is both ‘a myth’ and ‘nonsense’\\nIt’s not just you: McDonald’s really was everywhere this year\\nAre fears of higher tariffs leading you to stockpile goods?\\nIsrael strikes Syria 480 times and seizes territory as Netanyahu pledges to change face of the Middle East\\nUnitedHealthcare CEO’s killing shows why companies spend millions to protect their top executives\\nUS rushes to uncover new information on whereabouts of Austin Tice after collapse of Syrian regime\\nVandals attack Jewish area in Sydney in latest antisemitic attack\\nThe world’s best disabled golfer is on a mission to win able-bodied tournaments\\nSign in\\nMy Account\\nSettings\\nTopics You Follow\\nSign Out\\nYour CNN account\\nSign in to your CNN account\\nLive TV\\nListen\\nWatch\\nWorld\\nAfrica\\nAmericas\\nAsia\\nAustralia\\nChina\\nEurope\\nIndia\\nMiddle East\\nUnited Kingdom\\nUS Politics\\nSCOTUS\\nCongress\\nFacts First\\n2024 Elections\\nBusiness\\nTech\\nMedia\\nCalculators\\nVideos\\nMarkets\\nPre-markets\\nAfter-Hours\\nFear & Greed\\nInvesting\\nMarkets Now\\nNightcap\\nHealth\\nLife, But Better\\nFitness\\nFood\\nSleep\\nMindfulness\\nRelationships\\nEntertainment\\nMovies\\nTelevision\\nCelebrity\\nTech\\nInnovate\\nForeseeable Future\\nMission: Ahead\\nWork Transformed\\nInnovative Cities\\nStyle\\nArts\\nDesign\\nFashion\\nArchitecture\\nLuxury\\nBeauty\\nVideo\\nTravel\\nDestinations\\nFood & Drink\\nStay\\nNews\\nVideos\\nSports\\nFootball\\nTennis\\nGolf\\nMotorsport\\nUS Sports\\nOlympics\\nClimbing\\nEsports\\nHockey\\nScience\\nSpace\\nLife\\nUnearthed\\nClimate\\nSolutions\\nWeather\\nWeather\\nVideo\\nClimate\\nUkraine-Russia War\\nIsrael-Hamas War\\nFeatures\\nAs Equals\\nCall to Earth\\nFreedom Project\\nImpact Your World\\nInside Africa\\nCNN Heroes\\nWatch\\nLive TV\\nCNN Fast\\nShows A-Z\\nCNN10\\nCNN Max\\nCNN TV Schedules\\nListen\\nCNN 5 Things\\nChasing Life with Dr. Sanjay Gupta\\nThe Assignment with Audie Cornish\\nOne Thing\\nTug of War\\nCNN Political Briefing\\nThe Axe Files\\nAll There Is with Anderson Cooper\\nAll CNN Audio podcasts\\nAbout CNN\\nPhotos\\nInvestigations\\nCNN Profiles\\nCNN Leadership\\nCNN Newsletters\\nWork for CNN\\nWatch\\nListen\\nLive TV\\nFollow CNN\\nSign in\\nMy Account\\nSettings\\nTopics You Follow\\nSign Out\\nYour CNN account\\nSign in to your CNN account\\nTerms of Use\\nPrivacy Policy\\nAd Choices\\nAccessibility & CC\\nAbout\\nNewsletters\\nTranscripts\\n© 2024 Cable News Network. A Warner Bros. Discovery Company. All Rights Reserved.\\nCNN Sans ™ & © 2016 Cable News Network.\""
      ]
     },
     "execution_count": 15,
     "metadata": {},
     "output_type": "execute_result"
    }
   ],
   "source": [
    "website.text"
   ]
  },
  {
   "cell_type": "code",
   "execution_count": 16,
   "metadata": {},
   "outputs": [
    {
     "data": {
      "text/plain": [
       "\"You are looking at a website titled Breaking News, Latest News and Videos | CNN\\nThe contents of this website is as follows; please provide a short summary of this website in markdown. If it includes news or announcements, then summarize these too.\\n\\nCNN values your feedback\\n1. How relevant is this ad to you?\\n2. Did you encounter any technical issues?\\nVideo player was slow to load content\\nVideo content never loaded\\nAd froze or did not finish loading\\nVideo content did not start after ad\\nAudio on ad was too loud\\nOther issues\\nAd never loaded\\nAd prevented/slowed the page from loading\\nContent moved around while ad loaded\\nAd was repetitive to ads I've seen previously\\nOther issues\\nCancel\\nSubmit\\nThank You!\\nYour effort and contribution in providing this feedback is much\\n                                        appreciated.\\nClose\\nAd Feedback\\nClose icon\\nUS\\nWorld\\nPolitics\\nBusiness\\nHealth\\nEntertainment\\nStyle\\nTravel\\nSports\\nScience\\nClimate\\nWeather\\nUkraine-Russia War\\nIsrael-Hamas War\\nMore\\nUS\\nWorld\\nPolitics\\nBusiness\\nHealth\\nEntertainment\\nStyle\\nTravel\\nSports\\nScience\\nClimate\\nWeather\\nUkraine-Russia War\\nIsrael-Hamas War\\nWatch\\nListen\\nLive TV\\nSubscribe\\nSign in\\nMy Account\\nSettings\\nTopics You Follow\\nSign Out\\nYour CNN account\\nSign in to your CNN account\\nSign in\\nMy Account\\nSettings\\nTopics You Follow\\nSign Out\\nYour CNN account\\nSign in to your CNN account\\nLive TV\\nListen\\nWatch\\nEdition\\nUS\\nInternational\\nArabic\\nEspañol\\nEdition\\nUS\\nInternational\\nArabic\\nEspañol\\nWorld\\nAfrica\\nAmericas\\nAsia\\nAustralia\\nChina\\nEurope\\nIndia\\nMiddle East\\nUnited Kingdom\\nUS Politics\\nSCOTUS\\nCongress\\nFacts First\\n2024 Elections\\nBusiness\\nTech\\nMedia\\nCalculators\\nVideos\\nMarkets\\nPre-markets\\nAfter-Hours\\nFear & Greed\\nInvesting\\nMarkets Now\\nNightcap\\nHealth\\nLife, But Better\\nFitness\\nFood\\nSleep\\nMindfulness\\nRelationships\\nEntertainment\\nMovies\\nTelevision\\nCelebrity\\nTech\\nInnovate\\nForeseeable Future\\nMission: Ahead\\nWork Transformed\\nInnovative Cities\\nStyle\\nArts\\nDesign\\nFashion\\nArchitecture\\nLuxury\\nBeauty\\nVideo\\nTravel\\nDestinations\\nFood & Drink\\nStay\\nNews\\nVideos\\nSports\\nFootball\\nTennis\\nGolf\\nMotorsport\\nUS Sports\\nOlympics\\nClimbing\\nEsports\\nHockey\\nScience\\nSpace\\nLife\\nUnearthed\\nClimate\\nSolutions\\nWeather\\nWeather\\nVideo\\nClimate\\nUkraine-Russia War\\nIsrael-Hamas War\\nFeatures\\nAs Equals\\nCall to Earth\\nFreedom Project\\nImpact Your World\\nInside Africa\\nCNN Heroes\\nWatch\\nLive TV\\nCNN Fast\\nShows A-Z\\nCNN10\\nCNN Max\\nCNN TV Schedules\\nListen\\nCNN 5 Things\\nChasing Life with Dr. Sanjay Gupta\\nThe Assignment with Audie Cornish\\nOne Thing\\nTug of War\\nCNN Political Briefing\\nThe Axe Files\\nAll There Is with Anderson Cooper\\nAll CNN Audio podcasts\\nAbout CNN\\nPhotos\\nInvestigations\\nCNN Profiles\\nCNN Leadership\\nCNN Newsletters\\nWork for CNN\\nFollow CNN\\nLive Updates\\nThe latest from Syria\\nYoungest chess world champion\\nSouth Korean martial law chaos\\n‘Attenzione, pickpocket!’\\nShocking changes to rivers\\n‘Love is Blind’\\nHorrors of life and death under Syria’s Assad\\nShow\\xa0all\\nCNN\\nBruised and battered corpses inside Mujtahid Hospital are tangible evidence of the brutal regime of the toppled dictator\\nLive Updates\\nMore than 1.1 million people displaced across Syria, UN estimates\\nExiled Syrians return home as others flee fearing the worst\\nThe dead, the missing and the reunited: Three tales of Syria’s tortured prisoners\\nIsrael accuses an ‘unprecedented’ number of Israelis of spying for Iran\\n•\\nVideo\\n5:40\\nCNN\\nVideo\\nFreed Syrian prisoner: ‘My God, there is light’\\n5:40\\n•\\nVideo\\n2:31\\nMIKHAIL KLIMENTYEV/AFP/Getty Images\\nVideo\\nMystery grows over Assad’s possible whereabouts in Russia\\n2:31\\n•\\nVideo\\n3:28\\nCNN\\nVideo\\n‘Crime of the regime’: Doctor reacts to bodies of Assad’s last victims\\n3:28\\n•\\nAnalysis\\nAnalysis\\nSusan Walsh/AP\\nAnalysis\\nXi’s RSVP is a snub to Trump, but the inauguration invite is still a big deal\\nTrump offers invites to foreign leaders through calls and back channels\\nReal Ice\\nA startup added 20 inches of fresh ice to part of the Arctic. Critics say it’s a huge risk\\nNeville Hopwood/Getty Images/File\\nChina sentences former Premier League soccer star to 20 years in prison for corruption\\nCatch up on today's global news\\n- Source:\\nCNN\\nVideo\\nCatch up on today’s global news\\nSimon Lim/AFP/Getty Images\\nIndian Gukesh Dommaraju, 18, becomes the youngest ever chess world champion\\nNoriko Hayashi/Bloomberg/Getty Images\\nSake made in space could sell for $500,000 a glass\\nTheo Wargo/Getty Images\\nElton John believes legalizing marijuana ‘is one of the greatest mistakes of all time’\\n•\\nVideo\\n1:27\\nCity of Fall River Police Department\\nVideo\\nMan flees from police, gets stuck in chimney, asks police for help\\n1:27\\nJourney Beyond\\nA 75-hour train ride through one of the world’s wildest places\\nAd Feedback\\nMore top stories\\nRohan Sullivan/AP\\nWomen take on mining giants in sexual harassment class action cases\\nHe cut off some loved ones for months. Now, Luigi Mangione faces mounting evidence in health care CEO’s killing\\nBiden admin says it is surging deliveries to Ukraine as Trump criticizes decision to allow US weapons to strike inside Russia\\nVideo\\nHaberman explains what Trump’s interview with Time tells her about his mindset\\n2:07\\nSouth Korean president refuses to quit as ruling party backs impeachment\\nFeatured\\nNorton Disney History and Archaeology Group/English Heritage/Lucara Diamond/Archaeological Park of Pompeii\\nA monster diamond, ancient lipstick and erotic Roman frescoes: 15 remarkable discoveries of 2024\\nTuul & Bruno Morandi/The Image Bank RF/Getty Images\\nScientists mapped the world’s rivers over 35 years. They found shocking changes\\nTaro Hama/e-kamakura/Moment RF/Getty Images\\nIt’s one of the world’s largest connected coral reef systems, but few people have even heard of it\\nAd Feedback\\nJulia Buckley/CNN\\nThe 58-year-old woman who chases pickpockets through Venice\\nDec 12, 2024\\nfcafotodigital/E+/Getty Images\\nA lowly vegetable rises to stardom in new dietary advisory report\\nDec 13, 2024\\nCNN\\nVideo\\nSanjay Gupta gives demonstration on Mangione’s apparent spine condition\\n2:14\\nDec 12, 2024\\nU.S. Consumer Product Safety Commission\\nStanley recalls more than 2.5 million travel mugs over possible burn hazard\\nDec 13, 2024\\nAd Feedback\\nWPBN\\nShe took a DNA test for fun. Police used it to charge her grandmother with murder in a cold case\\nNASA/JPL-Caltech\\nPerseverance rover will uncover mysterious Martian history after a monthslong trek\\nCourtesy Arete Tsoukalas\\n‘No one should have to be fighting cancer and insurance at the same time’\\n•\\nVideo\\n1:21\\nJefferson County Sheriff's Office\\nVideo\\nSuspected jewelry thieves attempt to escape by rowboat\\n1:21\\nAidan Monaghan/Focus Features\\nIf looks could kill: The risqué costumes of Hollywood’s ‘Nosferatu’ remake\\nNetflix\\n‘Love is Blind’ contestants are employees, Labor Board says, a first for reality TV\\nNatalia Botero-Acosta\\nHumpback whale makes record journey from South America to Africa\\nJordan Strauss/Invision/AP\\nSelena Gomez is engaged to record producer Benny Blanco\\nVictor Virgile/Gamma-Rapho/Getty Images\\nChanel announces Matthieu Blazy as its new artistic director\\n•\\nVideo\\n2:26\\nslutty vegan\\nVideo\\n‘It’s a term of endearment’: Why this restaurateur calls her customers sluts\\n2:26\\nDavid Eulitt/Getty Images\\nThe Kansas City Chiefs are the luckiest good team ever\\nAd Feedback\\nFeatured Sections\\nSpace and science\\nNASA/JPL-Caltech\\nPerseverance rover prepares to investigate the mysterious early history of Mars\\nHere’s how to watch this year’s brightest meteor shower\\nA recent orca sighting recalls a mystifying 1980s phenomenon. Is it happening again?\\nWhy Trump’s NASA pick is sending shock waves through the space community\\nGlobal Travel\\nShow\\xa0all\\nMilko Marchetti/Nikon Comedy Wildlife\\nStuck squirrel wins 2024 Comedy Wildlife Photography award\\nConsidering moving out of the US in 2025? These are the best countries for American expats\\nThe Australian city that became a global food and drink powerhouse\\nFour friends posed for a photo on vacation in 1972. Over 50 years later, they recreated it\\nAd Feedback\\nGlobal Business\\nDavid Ryder/Reuters\\nTrump just said groceries will be more affordable ‘very soon.’ He’s also said that might be very hard to achieve\\nWalgreens is in particularly awful shape\\nHere’s what could get significantly more expensive under Trump’s tariff plan\\nMore than 8,000 job cuts planned by another top German manufacturer\\nStyle\\nCharles McQuillan/Getty Images/File\\nOlympic sharpshooter Kim Ye-ji brings ‘aura’ to Balenciaga campaign\\nMetropolitan Museum of Art reveals design for new $550-million wing\\nPaul Mescal is selling his clothes on Vinted\\nTakashi Murakami uses AI to recreate ancient Japanese paintings — with a surreal twist\\nThe surprising history of the Fair Isle sweater\\nSPORT\\nShow\\xa0all\\nDavid Eulitt/Getty Images\\nThe Kansas City Chiefs are the luckiest good team ever\\nOlivia Reeves becomes first US lifter in 66 years to hold both world title and Olympic gold medal\\nBill Belichick named head football coach at North Carolina\\nA potential Super Bowl preview and the battle for Pennsylvania: Five things to look out for in Week 15 of the NFL season\\nAd Feedback\\nUS Politics\\nHannah Beier/Reuters\\nFBI informant accused of lying about Joe and Hunter Biden pleads guilty\\nKey lines from Trump’s interview with Time magazine\\nNo undercover FBI agents were at the January 6 US Capitol riot, watchdog reports\\nGOP senators targeted by Trump allies keep door open to controversial picks\\nHardline activist who raised the idea of jailing women for abortions gets top policy job in Trump administration\\nhealth and wellness\\nWestend61/Getty Images\\nThe holidays can be stressful and anxiety-inducing. Here’s how to make them fun and exciting again\\nCertain foods may disrupt your body’s fight against cancer cells, study says\\nMicroplastics are in many of your body’s organs and tissues. Why they’re so bad and what you can do\\nHere’s what child development experts think about the ‘beige mom’ trend\\nTech\\nJulien de Rosa/AFP/Getty Images/File\\nTech giants like Meta, Google to be forced to pay for Australian news\\nElon Musk becomes the first person to reach a net worth of $400 billion\\nAn autistic teen’s parents say Character.AI said it was OK to kill them. They’re suing to take down the app\\nWhat’s next for TikTok now that the app might get banned in the US?\\nPhotos You Should See\\n•\\nGallery\\nGallery\\nAlexlky/iStockphoto/Getty Images\\nGallery\\nMedical maggots, cancer-fighting wasps: The weird ways insects help our health\\n•\\nGallery\\nGallery\\nStephane de Sakutin/AFP/Getty Images\\nGallery\\nIn pictures: First look at Notre Dame’s breathtaking restoration five years after fire\\n•\\nGallery\\nGallery\\nChristopher Polk/TAS/Getty Images\\nGallery\\nIn pictures: Taylor Swift’s journey from country icon to pop superstar\\n•\\nGallery\\nGallery\\nArturo Hernandez/Eyepix Group/Future Publishing/Getty Images\\nGallery\\nPeople we’ve lost in 2024\\n•\\nGallery\\nGallery\\nAlpineguide/Alamy Stock Photo\\nGallery\\nEuropean towns and cities that look like Christmas\\n•\\nGallery\\nGallery\\nKatelyn Mulcahy/Getty Images\\nGallery\\nThe best photos from the 2024 NFL season\\nAd Feedback\\nIn Case You Missed It\\nCallaghan O'Hare/Bloomberg/Getty Images\\nChili’s and Applebee’s are fighting about their value meals\\nDavid Letterman at 77 says retirement is both ‘a myth’ and ‘nonsense’\\nIt’s not just you: McDonald’s really was everywhere this year\\nAre fears of higher tariffs leading you to stockpile goods?\\nIsrael strikes Syria 480 times and seizes territory as Netanyahu pledges to change face of the Middle East\\nUnitedHealthcare CEO’s killing shows why companies spend millions to protect their top executives\\nUS rushes to uncover new information on whereabouts of Austin Tice after collapse of Syrian regime\\nVandals attack Jewish area in Sydney in latest antisemitic attack\\nThe world’s best disabled golfer is on a mission to win able-bodied tournaments\\nSign in\\nMy Account\\nSettings\\nTopics You Follow\\nSign Out\\nYour CNN account\\nSign in to your CNN account\\nLive TV\\nListen\\nWatch\\nWorld\\nAfrica\\nAmericas\\nAsia\\nAustralia\\nChina\\nEurope\\nIndia\\nMiddle East\\nUnited Kingdom\\nUS Politics\\nSCOTUS\\nCongress\\nFacts First\\n2024 Elections\\nBusiness\\nTech\\nMedia\\nCalculators\\nVideos\\nMarkets\\nPre-markets\\nAfter-Hours\\nFear & Greed\\nInvesting\\nMarkets Now\\nNightcap\\nHealth\\nLife, But Better\\nFitness\\nFood\\nSleep\\nMindfulness\\nRelationships\\nEntertainment\\nMovies\\nTelevision\\nCelebrity\\nTech\\nInnovate\\nForeseeable Future\\nMission: Ahead\\nWork Transformed\\nInnovative Cities\\nStyle\\nArts\\nDesign\\nFashion\\nArchitecture\\nLuxury\\nBeauty\\nVideo\\nTravel\\nDestinations\\nFood & Drink\\nStay\\nNews\\nVideos\\nSports\\nFootball\\nTennis\\nGolf\\nMotorsport\\nUS Sports\\nOlympics\\nClimbing\\nEsports\\nHockey\\nScience\\nSpace\\nLife\\nUnearthed\\nClimate\\nSolutions\\nWeather\\nWeather\\nVideo\\nClimate\\nUkraine-Russia War\\nIsrael-Hamas War\\nFeatures\\nAs Equals\\nCall to Earth\\nFreedom Project\\nImpact Your World\\nInside Africa\\nCNN Heroes\\nWatch\\nLive TV\\nCNN Fast\\nShows A-Z\\nCNN10\\nCNN Max\\nCNN TV Schedules\\nListen\\nCNN 5 Things\\nChasing Life with Dr. Sanjay Gupta\\nThe Assignment with Audie Cornish\\nOne Thing\\nTug of War\\nCNN Political Briefing\\nThe Axe Files\\nAll There Is with Anderson Cooper\\nAll CNN Audio podcasts\\nAbout CNN\\nPhotos\\nInvestigations\\nCNN Profiles\\nCNN Leadership\\nCNN Newsletters\\nWork for CNN\\nWatch\\nListen\\nLive TV\\nFollow CNN\\nSign in\\nMy Account\\nSettings\\nTopics You Follow\\nSign Out\\nYour CNN account\\nSign in to your CNN account\\nTerms of Use\\nPrivacy Policy\\nAd Choices\\nAccessibility & CC\\nAbout\\nNewsletters\\nTranscripts\\n© 2024 Cable News Network. A Warner Bros. Discovery Company. All Rights Reserved.\\nCNN Sans ™ & © 2016 Cable News Network.\""
      ]
     },
     "execution_count": 16,
     "metadata": {},
     "output_type": "execute_result"
    }
   ],
   "source": [
    "system_prompt = \"You are an assistant that analyzes the contents of a website \\\n",
    "and provides a short summary, ignoring text that might be navigation related. \\\n",
    "Respond in markdown.\"\n",
    "def user_prompt_for(website):\n",
    "    user_prompt = f\"You are looking at a website titled {website.title}\"\n",
    "    user_prompt += \"\\nThe contents of this website is as follows; \\\n",
    "please provide a short summary of this website in markdown. \\\n",
    "If it includes news or announcements, then summarize these too.\\n\\n\"\n",
    "    user_prompt += website.text\n",
    "    return user_prompt\n",
    "user_prompt_for(website)"
   ]
  },
  {
   "cell_type": "code",
   "execution_count": 17,
   "metadata": {},
   "outputs": [
    {
     "data": {
      "text/plain": [
       "[{'role': 'system',\n",
       "  'content': 'You are an assistant that analyzes the contents of a website and provides a short summary, ignoring text that might be navigation related. Respond in markdown.'},\n",
       " {'role': 'user',\n",
       "  'content': \"You are looking at a website titled Breaking News, Latest News and Videos | CNN\\nThe contents of this website is as follows; please provide a short summary of this website in markdown. If it includes news or announcements, then summarize these too.\\n\\nCNN values your feedback\\n1. How relevant is this ad to you?\\n2. Did you encounter any technical issues?\\nVideo player was slow to load content\\nVideo content never loaded\\nAd froze or did not finish loading\\nVideo content did not start after ad\\nAudio on ad was too loud\\nOther issues\\nAd never loaded\\nAd prevented/slowed the page from loading\\nContent moved around while ad loaded\\nAd was repetitive to ads I've seen previously\\nOther issues\\nCancel\\nSubmit\\nThank You!\\nYour effort and contribution in providing this feedback is much\\n                                        appreciated.\\nClose\\nAd Feedback\\nClose icon\\nUS\\nWorld\\nPolitics\\nBusiness\\nHealth\\nEntertainment\\nStyle\\nTravel\\nSports\\nScience\\nClimate\\nWeather\\nUkraine-Russia War\\nIsrael-Hamas War\\nMore\\nUS\\nWorld\\nPolitics\\nBusiness\\nHealth\\nEntertainment\\nStyle\\nTravel\\nSports\\nScience\\nClimate\\nWeather\\nUkraine-Russia War\\nIsrael-Hamas War\\nWatch\\nListen\\nLive TV\\nSubscribe\\nSign in\\nMy Account\\nSettings\\nTopics You Follow\\nSign Out\\nYour CNN account\\nSign in to your CNN account\\nSign in\\nMy Account\\nSettings\\nTopics You Follow\\nSign Out\\nYour CNN account\\nSign in to your CNN account\\nLive TV\\nListen\\nWatch\\nEdition\\nUS\\nInternational\\nArabic\\nEspañol\\nEdition\\nUS\\nInternational\\nArabic\\nEspañol\\nWorld\\nAfrica\\nAmericas\\nAsia\\nAustralia\\nChina\\nEurope\\nIndia\\nMiddle East\\nUnited Kingdom\\nUS Politics\\nSCOTUS\\nCongress\\nFacts First\\n2024 Elections\\nBusiness\\nTech\\nMedia\\nCalculators\\nVideos\\nMarkets\\nPre-markets\\nAfter-Hours\\nFear & Greed\\nInvesting\\nMarkets Now\\nNightcap\\nHealth\\nLife, But Better\\nFitness\\nFood\\nSleep\\nMindfulness\\nRelationships\\nEntertainment\\nMovies\\nTelevision\\nCelebrity\\nTech\\nInnovate\\nForeseeable Future\\nMission: Ahead\\nWork Transformed\\nInnovative Cities\\nStyle\\nArts\\nDesign\\nFashion\\nArchitecture\\nLuxury\\nBeauty\\nVideo\\nTravel\\nDestinations\\nFood & Drink\\nStay\\nNews\\nVideos\\nSports\\nFootball\\nTennis\\nGolf\\nMotorsport\\nUS Sports\\nOlympics\\nClimbing\\nEsports\\nHockey\\nScience\\nSpace\\nLife\\nUnearthed\\nClimate\\nSolutions\\nWeather\\nWeather\\nVideo\\nClimate\\nUkraine-Russia War\\nIsrael-Hamas War\\nFeatures\\nAs Equals\\nCall to Earth\\nFreedom Project\\nImpact Your World\\nInside Africa\\nCNN Heroes\\nWatch\\nLive TV\\nCNN Fast\\nShows A-Z\\nCNN10\\nCNN Max\\nCNN TV Schedules\\nListen\\nCNN 5 Things\\nChasing Life with Dr. Sanjay Gupta\\nThe Assignment with Audie Cornish\\nOne Thing\\nTug of War\\nCNN Political Briefing\\nThe Axe Files\\nAll There Is with Anderson Cooper\\nAll CNN Audio podcasts\\nAbout CNN\\nPhotos\\nInvestigations\\nCNN Profiles\\nCNN Leadership\\nCNN Newsletters\\nWork for CNN\\nFollow CNN\\nLive Updates\\nThe latest from Syria\\nYoungest chess world champion\\nSouth Korean martial law chaos\\n‘Attenzione, pickpocket!’\\nShocking changes to rivers\\n‘Love is Blind’\\nHorrors of life and death under Syria’s Assad\\nShow\\xa0all\\nCNN\\nBruised and battered corpses inside Mujtahid Hospital are tangible evidence of the brutal regime of the toppled dictator\\nLive Updates\\nMore than 1.1 million people displaced across Syria, UN estimates\\nExiled Syrians return home as others flee fearing the worst\\nThe dead, the missing and the reunited: Three tales of Syria’s tortured prisoners\\nIsrael accuses an ‘unprecedented’ number of Israelis of spying for Iran\\n•\\nVideo\\n5:40\\nCNN\\nVideo\\nFreed Syrian prisoner: ‘My God, there is light’\\n5:40\\n•\\nVideo\\n2:31\\nMIKHAIL KLIMENTYEV/AFP/Getty Images\\nVideo\\nMystery grows over Assad’s possible whereabouts in Russia\\n2:31\\n•\\nVideo\\n3:28\\nCNN\\nVideo\\n‘Crime of the regime’: Doctor reacts to bodies of Assad’s last victims\\n3:28\\n•\\nAnalysis\\nAnalysis\\nSusan Walsh/AP\\nAnalysis\\nXi’s RSVP is a snub to Trump, but the inauguration invite is still a big deal\\nTrump offers invites to foreign leaders through calls and back channels\\nReal Ice\\nA startup added 20 inches of fresh ice to part of the Arctic. Critics say it’s a huge risk\\nNeville Hopwood/Getty Images/File\\nChina sentences former Premier League soccer star to 20 years in prison for corruption\\nCatch up on today's global news\\n- Source:\\nCNN\\nVideo\\nCatch up on today’s global news\\nSimon Lim/AFP/Getty Images\\nIndian Gukesh Dommaraju, 18, becomes the youngest ever chess world champion\\nNoriko Hayashi/Bloomberg/Getty Images\\nSake made in space could sell for $500,000 a glass\\nTheo Wargo/Getty Images\\nElton John believes legalizing marijuana ‘is one of the greatest mistakes of all time’\\n•\\nVideo\\n1:27\\nCity of Fall River Police Department\\nVideo\\nMan flees from police, gets stuck in chimney, asks police for help\\n1:27\\nJourney Beyond\\nA 75-hour train ride through one of the world’s wildest places\\nAd Feedback\\nMore top stories\\nRohan Sullivan/AP\\nWomen take on mining giants in sexual harassment class action cases\\nHe cut off some loved ones for months. Now, Luigi Mangione faces mounting evidence in health care CEO’s killing\\nBiden admin says it is surging deliveries to Ukraine as Trump criticizes decision to allow US weapons to strike inside Russia\\nVideo\\nHaberman explains what Trump’s interview with Time tells her about his mindset\\n2:07\\nSouth Korean president refuses to quit as ruling party backs impeachment\\nFeatured\\nNorton Disney History and Archaeology Group/English Heritage/Lucara Diamond/Archaeological Park of Pompeii\\nA monster diamond, ancient lipstick and erotic Roman frescoes: 15 remarkable discoveries of 2024\\nTuul & Bruno Morandi/The Image Bank RF/Getty Images\\nScientists mapped the world’s rivers over 35 years. They found shocking changes\\nTaro Hama/e-kamakura/Moment RF/Getty Images\\nIt’s one of the world’s largest connected coral reef systems, but few people have even heard of it\\nAd Feedback\\nJulia Buckley/CNN\\nThe 58-year-old woman who chases pickpockets through Venice\\nDec 12, 2024\\nfcafotodigital/E+/Getty Images\\nA lowly vegetable rises to stardom in new dietary advisory report\\nDec 13, 2024\\nCNN\\nVideo\\nSanjay Gupta gives demonstration on Mangione’s apparent spine condition\\n2:14\\nDec 12, 2024\\nU.S. Consumer Product Safety Commission\\nStanley recalls more than 2.5 million travel mugs over possible burn hazard\\nDec 13, 2024\\nAd Feedback\\nWPBN\\nShe took a DNA test for fun. Police used it to charge her grandmother with murder in a cold case\\nNASA/JPL-Caltech\\nPerseverance rover will uncover mysterious Martian history after a monthslong trek\\nCourtesy Arete Tsoukalas\\n‘No one should have to be fighting cancer and insurance at the same time’\\n•\\nVideo\\n1:21\\nJefferson County Sheriff's Office\\nVideo\\nSuspected jewelry thieves attempt to escape by rowboat\\n1:21\\nAidan Monaghan/Focus Features\\nIf looks could kill: The risqué costumes of Hollywood’s ‘Nosferatu’ remake\\nNetflix\\n‘Love is Blind’ contestants are employees, Labor Board says, a first for reality TV\\nNatalia Botero-Acosta\\nHumpback whale makes record journey from South America to Africa\\nJordan Strauss/Invision/AP\\nSelena Gomez is engaged to record producer Benny Blanco\\nVictor Virgile/Gamma-Rapho/Getty Images\\nChanel announces Matthieu Blazy as its new artistic director\\n•\\nVideo\\n2:26\\nslutty vegan\\nVideo\\n‘It’s a term of endearment’: Why this restaurateur calls her customers sluts\\n2:26\\nDavid Eulitt/Getty Images\\nThe Kansas City Chiefs are the luckiest good team ever\\nAd Feedback\\nFeatured Sections\\nSpace and science\\nNASA/JPL-Caltech\\nPerseverance rover prepares to investigate the mysterious early history of Mars\\nHere’s how to watch this year’s brightest meteor shower\\nA recent orca sighting recalls a mystifying 1980s phenomenon. Is it happening again?\\nWhy Trump’s NASA pick is sending shock waves through the space community\\nGlobal Travel\\nShow\\xa0all\\nMilko Marchetti/Nikon Comedy Wildlife\\nStuck squirrel wins 2024 Comedy Wildlife Photography award\\nConsidering moving out of the US in 2025? These are the best countries for American expats\\nThe Australian city that became a global food and drink powerhouse\\nFour friends posed for a photo on vacation in 1972. Over 50 years later, they recreated it\\nAd Feedback\\nGlobal Business\\nDavid Ryder/Reuters\\nTrump just said groceries will be more affordable ‘very soon.’ He’s also said that might be very hard to achieve\\nWalgreens is in particularly awful shape\\nHere’s what could get significantly more expensive under Trump’s tariff plan\\nMore than 8,000 job cuts planned by another top German manufacturer\\nStyle\\nCharles McQuillan/Getty Images/File\\nOlympic sharpshooter Kim Ye-ji brings ‘aura’ to Balenciaga campaign\\nMetropolitan Museum of Art reveals design for new $550-million wing\\nPaul Mescal is selling his clothes on Vinted\\nTakashi Murakami uses AI to recreate ancient Japanese paintings — with a surreal twist\\nThe surprising history of the Fair Isle sweater\\nSPORT\\nShow\\xa0all\\nDavid Eulitt/Getty Images\\nThe Kansas City Chiefs are the luckiest good team ever\\nOlivia Reeves becomes first US lifter in 66 years to hold both world title and Olympic gold medal\\nBill Belichick named head football coach at North Carolina\\nA potential Super Bowl preview and the battle for Pennsylvania: Five things to look out for in Week 15 of the NFL season\\nAd Feedback\\nUS Politics\\nHannah Beier/Reuters\\nFBI informant accused of lying about Joe and Hunter Biden pleads guilty\\nKey lines from Trump’s interview with Time magazine\\nNo undercover FBI agents were at the January 6 US Capitol riot, watchdog reports\\nGOP senators targeted by Trump allies keep door open to controversial picks\\nHardline activist who raised the idea of jailing women for abortions gets top policy job in Trump administration\\nhealth and wellness\\nWestend61/Getty Images\\nThe holidays can be stressful and anxiety-inducing. Here’s how to make them fun and exciting again\\nCertain foods may disrupt your body’s fight against cancer cells, study says\\nMicroplastics are in many of your body’s organs and tissues. Why they’re so bad and what you can do\\nHere’s what child development experts think about the ‘beige mom’ trend\\nTech\\nJulien de Rosa/AFP/Getty Images/File\\nTech giants like Meta, Google to be forced to pay for Australian news\\nElon Musk becomes the first person to reach a net worth of $400 billion\\nAn autistic teen’s parents say Character.AI said it was OK to kill them. They’re suing to take down the app\\nWhat’s next for TikTok now that the app might get banned in the US?\\nPhotos You Should See\\n•\\nGallery\\nGallery\\nAlexlky/iStockphoto/Getty Images\\nGallery\\nMedical maggots, cancer-fighting wasps: The weird ways insects help our health\\n•\\nGallery\\nGallery\\nStephane de Sakutin/AFP/Getty Images\\nGallery\\nIn pictures: First look at Notre Dame’s breathtaking restoration five years after fire\\n•\\nGallery\\nGallery\\nChristopher Polk/TAS/Getty Images\\nGallery\\nIn pictures: Taylor Swift’s journey from country icon to pop superstar\\n•\\nGallery\\nGallery\\nArturo Hernandez/Eyepix Group/Future Publishing/Getty Images\\nGallery\\nPeople we’ve lost in 2024\\n•\\nGallery\\nGallery\\nAlpineguide/Alamy Stock Photo\\nGallery\\nEuropean towns and cities that look like Christmas\\n•\\nGallery\\nGallery\\nKatelyn Mulcahy/Getty Images\\nGallery\\nThe best photos from the 2024 NFL season\\nAd Feedback\\nIn Case You Missed It\\nCallaghan O'Hare/Bloomberg/Getty Images\\nChili’s and Applebee’s are fighting about their value meals\\nDavid Letterman at 77 says retirement is both ‘a myth’ and ‘nonsense’\\nIt’s not just you: McDonald’s really was everywhere this year\\nAre fears of higher tariffs leading you to stockpile goods?\\nIsrael strikes Syria 480 times and seizes territory as Netanyahu pledges to change face of the Middle East\\nUnitedHealthcare CEO’s killing shows why companies spend millions to protect their top executives\\nUS rushes to uncover new information on whereabouts of Austin Tice after collapse of Syrian regime\\nVandals attack Jewish area in Sydney in latest antisemitic attack\\nThe world’s best disabled golfer is on a mission to win able-bodied tournaments\\nSign in\\nMy Account\\nSettings\\nTopics You Follow\\nSign Out\\nYour CNN account\\nSign in to your CNN account\\nLive TV\\nListen\\nWatch\\nWorld\\nAfrica\\nAmericas\\nAsia\\nAustralia\\nChina\\nEurope\\nIndia\\nMiddle East\\nUnited Kingdom\\nUS Politics\\nSCOTUS\\nCongress\\nFacts First\\n2024 Elections\\nBusiness\\nTech\\nMedia\\nCalculators\\nVideos\\nMarkets\\nPre-markets\\nAfter-Hours\\nFear & Greed\\nInvesting\\nMarkets Now\\nNightcap\\nHealth\\nLife, But Better\\nFitness\\nFood\\nSleep\\nMindfulness\\nRelationships\\nEntertainment\\nMovies\\nTelevision\\nCelebrity\\nTech\\nInnovate\\nForeseeable Future\\nMission: Ahead\\nWork Transformed\\nInnovative Cities\\nStyle\\nArts\\nDesign\\nFashion\\nArchitecture\\nLuxury\\nBeauty\\nVideo\\nTravel\\nDestinations\\nFood & Drink\\nStay\\nNews\\nVideos\\nSports\\nFootball\\nTennis\\nGolf\\nMotorsport\\nUS Sports\\nOlympics\\nClimbing\\nEsports\\nHockey\\nScience\\nSpace\\nLife\\nUnearthed\\nClimate\\nSolutions\\nWeather\\nWeather\\nVideo\\nClimate\\nUkraine-Russia War\\nIsrael-Hamas War\\nFeatures\\nAs Equals\\nCall to Earth\\nFreedom Project\\nImpact Your World\\nInside Africa\\nCNN Heroes\\nWatch\\nLive TV\\nCNN Fast\\nShows A-Z\\nCNN10\\nCNN Max\\nCNN TV Schedules\\nListen\\nCNN 5 Things\\nChasing Life with Dr. Sanjay Gupta\\nThe Assignment with Audie Cornish\\nOne Thing\\nTug of War\\nCNN Political Briefing\\nThe Axe Files\\nAll There Is with Anderson Cooper\\nAll CNN Audio podcasts\\nAbout CNN\\nPhotos\\nInvestigations\\nCNN Profiles\\nCNN Leadership\\nCNN Newsletters\\nWork for CNN\\nWatch\\nListen\\nLive TV\\nFollow CNN\\nSign in\\nMy Account\\nSettings\\nTopics You Follow\\nSign Out\\nYour CNN account\\nSign in to your CNN account\\nTerms of Use\\nPrivacy Policy\\nAd Choices\\nAccessibility & CC\\nAbout\\nNewsletters\\nTranscripts\\n© 2024 Cable News Network. A Warner Bros. Discovery Company. All Rights Reserved.\\nCNN Sans ™ & © 2016 Cable News Network.\"}]"
      ]
     },
     "execution_count": 17,
     "metadata": {},
     "output_type": "execute_result"
    }
   ],
   "source": [
    "def messages_for(website):\n",
    "    return [\n",
    "        {\"role\": \"system\", \"content\": system_prompt},\n",
    "        {\"role\": \"user\", \"content\": user_prompt_for(website)}\n",
    "    ]\n",
    "messages_for(website)"
   ]
  },
  {
   "cell_type": "code",
   "execution_count": 35,
   "metadata": {},
   "outputs": [],
   "source": [
    "def summarize(url):\n",
    "    response = ollama.chat(model= \"llama3.2\", messages= messages_for(website))\n",
    "    return response.message.content"
   ]
  },
  {
   "cell_type": "code",
   "execution_count": 36,
   "metadata": {},
   "outputs": [],
   "source": [
    "def display_summary(url):\n",
    "    summary = summarize(url)\n",
    "    display(Markdown(summary))"
   ]
  },
  {
   "cell_type": "code",
   "execution_count": 37,
   "metadata": {},
   "outputs": [
    {
     "data": {
      "text/markdown": [
       "Here's a summary of the article:\n",
       "\n",
       "**Main Headlines**\n",
       "\n",
       "* The latest news and updates from around the world, including breaking news on US politics, climate change, and more.\n",
       "\n",
       "**Top Stories**\n",
       "\n",
       "* Elon Musk becomes first person to reach $400 billion net worth\n",
       "* Tech giants like Meta and Google will be forced to pay for Australian news\n",
       "* Israel strikes Syria 480 times and seizes territory as Netanyahu pledges to change face of the Middle East\n",
       "\n",
       "**In-Depth Articles**\n",
       "\n",
       "* \"The Weird Ways Insects Help Our Health\"\n",
       "* \"Medical Maggots: The Future of Cancer Treatment?\"\n",
       "* \"Vandals Attack Jewish Area in Sydney in Latest Antisemitic Attack\"\n",
       "\n",
       "**Opinion Pieces**\n",
       "\n",
       "* \"Chili's and Applebee's Are Fighting About Their Value Meals - It's Not Just You\"\n",
       "* \"It's Not Just You: McDonald's Really Was Everywhere This Year\"\n",
       "\n",
       "**Special Reports**\n",
       "\n",
       "* \"The Holidays Can Be Stressful and Anxiety-Inducing. Here's How to Make Them Fun and Exciting Again\"\n",
       "* \"Certain Foods May Disrupt Your Body's Fight Against Cancer Cells, Study Says\"\n",
       "\n",
       "**Entertainment News**\n",
       "\n",
       "* Taylor Swift's Journey from Country Icon to Pop Superstar\n",
       "* The Best Photos from the 2024 NFL Season\n",
       "\n",
       "**Sports News**\n",
       "\n",
       "* The World's Best Disabled Golfer is on a Mission to Win Able-Bodied Tournaments\n",
       "\n",
       "Note that this is just a summary, and there are many more articles and topics covered in the original CNN website."
      ],
      "text/plain": [
       "<IPython.core.display.Markdown object>"
      ]
     },
     "metadata": {},
     "output_type": "display_data"
    }
   ],
   "source": [
    "display_summary(\"https://www.cnn.com\")"
   ]
  }
 ],
 "metadata": {
  "kernelspec": {
   "display_name": "llms",
   "language": "python",
   "name": "python3"
  },
  "language_info": {
   "codemirror_mode": {
    "name": "ipython",
    "version": 3
   },
   "file_extension": ".py",
   "mimetype": "text/x-python",
   "name": "python",
   "nbconvert_exporter": "python",
   "pygments_lexer": "ipython3",
   "version": "3.11.11"
  }
 },
 "nbformat": 4,
 "nbformat_minor": 2
}
