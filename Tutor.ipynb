{
 "cells": [
  {
   "cell_type": "code",
   "execution_count": 1,
   "id": "c1070317-3ed9-4659-abe3-828943230e03",
   "metadata": {},
   "outputs": [],
   "source": [
    "# imports\n",
    "\n",
    "import requests\n",
    "from bs4 import BeautifulSoup\n",
    "from IPython.display import Markdown, display\n",
    "import ollama\n",
    "import json"
   ]
  },
  {
   "cell_type": "code",
   "execution_count": 2,
   "id": "a8d7923c-5f28-4c30-8556-342d7c8497c1",
   "metadata": {},
   "outputs": [],
   "source": [
    "# set up environment\n",
    "OLLAMA_API = \"http://localhost:11434/api/chat\"\n",
    "HEADERS = {\"Content-Type\": \"application/json\"}\n",
    "MODEL = \"llama3.2\""
   ]
  },
  {
   "cell_type": "code",
   "execution_count": 3,
   "id": "3f0d0137-52b0-47a8-81a8-11a90a010798",
   "metadata": {},
   "outputs": [],
   "source": [
    "system_prompt = \"You are a tutor who helps students in their studies in any kind of field\\\n",
    "Provide detailed explanation and solution to them \\\n",
    "Create Diagram and Flow chart if needed (Not Mandatory) \\\n",
    "Respond in markdown.\"\n",
    "def user_prompt(query):\n",
    "    prompt = f\"You are looking at the question {query}. Provide a detailed solution with explanation\"\n",
    "    return prompt\n",
    "def messages_for(query):\n",
    "        return [\n",
    "        {\"role\": \"system\", \"content\": system_prompt},\n",
    "        {\"role\": \"user\", \"content\": user_prompt(query)}\n",
    "    ]"
   ]
  },
  {
   "cell_type": "code",
   "execution_count": 11,
   "id": "8f7c8ea8-4082-4ad0-8751-3301adcf6538",
   "metadata": {},
   "outputs": [],
   "source": [
    "def answer(query):\n",
    "    # Construct payload for the API\n",
    "    payload = {\n",
    "        \"model\": MODEL,\n",
    "        \"messages\": messages_for(query)\n",
    "    }\n",
    "    # Make the API call\n",
    "    response = requests.post(OLLAMA_API, headers=HEADERS, json=payload, stream=True)\n",
    "\n",
    "    if response.status_code == 200:\n",
    "        complete_content = \"\"\n",
    "        try:\n",
    "            # Stream the response line by line\n",
    "            for line in response.iter_lines():\n",
    "                if line.strip():  # Ignore empty lines\n",
    "                    # Parse each line as JSON\n",
    "                    line_json = json.loads(line)\n",
    "                    # Append the \"content\" from the \"message\" field\n",
    "                    content = line_json.get(\"message\", {}).get(\"content\", \"\")\n",
    "                    complete_content += content\n",
    "\n",
    "            return complete_content\n",
    "        except json.JSONDecodeError as e:\n",
    "            return f\"JSON Decode Error: {e}. Raw response: {response.text}\"\n",
    "    else:\n",
    "        return f\"Error: {response.status_code} - {response.text}\"\n",
    "\n",
    "def show(query):\n",
    "    summary = answer(query)\n",
    "    return Markdown(summary)\n",
    "    while True:\n",
    "        follow_up = input(\"Do you have any doubts or follow-up questions? (Type 'no' to exit): \").strip()\n",
    "        if follow_up.lower() in ['no', 'n']:\n",
    "            print(\"Exiting. Happy learning!\")\n",
    "            break\n",
    "        else:\n",
    "            # Generate a response for the follow-up question\n",
    "            follow_up_response = answer(follow_up)\n",
    "            print(\"Follow-up Response:\")\n",
    "            ipy_display(Markdown(follow_up_response)) \n"
   ]
  },
  {
   "cell_type": "code",
   "execution_count": 12,
   "id": "31523fa8-bf33-49a4-8d08-9d95695704df",
   "metadata": {},
   "outputs": [
    {
     "name": "stdout",
     "output_type": "stream",
     "text": [
      "Enter Your Question:  what is photosynthesis?\n"
     ]
    },
    {
     "data": {
      "text/markdown": [
       "**Photosynthesis: The Process of Plant Growth**\n",
       "=====================================================\n",
       "\n",
       "Photosynthesis is the vital process by which plants, algae, and some bacteria convert light energy from the sun into chemical energy in the form of organic compounds, such as glucose. This process is essential for life on Earth, as it provides the primary source of energy and organic compounds for nearly all living organisms.\n",
       "\n",
       "**Overview of Photosynthesis**\n",
       "---------------------------\n",
       "\n",
       "The overall equation for photosynthesis is:\n",
       "\n",
       "6 CO2 (carbon dioxide) + 6 H2O (water) + light energy → C6H12O6 (glucose) + 6 O2 (oxygen)\n",
       "\n",
       "### Light-Dependent Reactions\n",
       "\n",
       "The first stage of photosynthesis occurs in the thylakoid membranes of chloroplasts, which are organelles found in plant cells. In this stage, light is absorbed by pigments such as chlorophyll and converted into ATP (adenosine triphosphate) and NADPH (nicotinamide adenine dinucleotide phosphate).\n",
       "\n",
       "**Light-Dependent Reactions Diagram**\n",
       "```mermaid\n",
       "graph LR;\n",
       "    A[Chloroplast] -->|light absorption| B[Thylakoid membrane];\n",
       "    B -->|ATP synthesis| C[ATP];\n",
       "    B -->|NADPH production| D[NADPH];\n",
       "    E[Chlorophyll] -->|light absorption| F[Excited electrons];\n",
       "    F -->|Electron transport chain| G[Protons pumping];\n",
       "    G -->|Proton gradient| H[ATP synthesis];\n",
       "```\n",
       "### Light-Independent Reactions\n",
       "\n",
       "The second stage of photosynthesis occurs in the stroma of chloroplasts and is also known as the Calvin cycle. In this stage, CO2 is fixed into organic compounds using energy from ATP and NADPH produced in the light-dependent reactions.\n",
       "\n",
       "**Calvin Cycle Diagram**\n",
       "```mermaid\n",
       "graph LR;\n",
       "    I[CO2] -->|Fixation| J[Ribulose-1,5-bisphosphate];\n",
       "    J -->|Reduction| K[3-PGA (3-phosphoglycerate)];\n",
       "    K -->|Regeneration| L[Ribulose-1,5-bisphosphate];\n",
       "```\n",
       "### Overall Reaction\n",
       "\n",
       "The overall reaction of photosynthesis is the combination of the light-dependent and light-independent reactions.\n",
       "\n",
       "6 CO2 + 6 H2O → C6H12O6 (glucose) + 6 O2\n",
       "\n",
       "**Importance of Photosynthesis**\n",
       "------------------------------\n",
       "\n",
       "Photosynthesis is essential for life on Earth, as it:\n",
       "\n",
       "* Provides energy for plants to grow and develop\n",
       "* Produces oxygen as a byproduct, which is necessary for the survival of most living organisms\n",
       "* Supports aquatic life, such as phytoplankton and zooplankton\n",
       "\n",
       "In summary, photosynthesis is the process by which plants, algae, and some bacteria convert light energy into chemical energy, producing glucose and oxygen. This process is essential for life on Earth, providing energy and organic compounds for nearly all living organisms."
      ],
      "text/plain": [
       "<IPython.core.display.Markdown object>"
      ]
     },
     "execution_count": 12,
     "metadata": {},
     "output_type": "execute_result"
    }
   ],
   "source": [
    "query = str(input(\"Enter Your Question: \"))\n",
    "show(query)\n"
   ]
  }
 ],
 "metadata": {
  "kernelspec": {
   "display_name": "Python 3 (ipykernel)",
   "language": "python",
   "name": "python3"
  },
  "language_info": {
   "codemirror_mode": {
    "name": "ipython",
    "version": 3
   },
   "file_extension": ".py",
   "mimetype": "text/x-python",
   "name": "python",
   "nbconvert_exporter": "python",
   "pygments_lexer": "ipython3",
   "version": "3.11.11"
  }
 },
 "nbformat": 4,
 "nbformat_minor": 5
}
